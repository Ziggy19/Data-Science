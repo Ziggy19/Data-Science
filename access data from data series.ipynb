{
 "cells": [
  {
   "cell_type": "markdown",
   "id": "62944bcc",
   "metadata": {},
   "source": [
    "# Accessing Data from Series"
   ]
  },
  {
   "cell_type": "code",
   "execution_count": 11,
   "id": "8abc4a8f",
   "metadata": {},
   "outputs": [
    {
     "name": "stdout",
     "output_type": "stream",
     "text": [
      "Using default index\n",
      "\n",
      "45\n",
      "Using given index\n",
      "\n",
      "45\n",
      "Using multiple  index\n",
      "\n",
      "a    45\n",
      "b    76\n",
      "c    89\n",
      "d    23\n",
      "dtype: int64\n",
      "Using slicing\n",
      "\n",
      "a    45\n",
      "b    76\n",
      "c    89\n",
      "dtype: int64\n",
      "a    45\n",
      "b    76\n",
      "c    89\n",
      "d    23\n",
      "e    56\n",
      "dtype: int64\n"
     ]
    }
   ],
   "source": [
    "import pandas as pd\n",
    "import numpy as np\n",
    "s2=pd.Series([45,76,89,23,56,98],  index=['a','b','c','d','e','f'])\n",
    "s2\n",
    "#accessing data from series\n",
    "print(\"Using default index\\n\")\n",
    "print(s2[0])\n",
    "print(\"Using given index\\n\")\n",
    "print(s2['a'])\n",
    "print(\"Using multiple  index\\n\")\n",
    "print(s2[['a','b','c','d']])\n",
    "print(\"Using slicing\\n\")\n",
    "print(s2[:3])\n",
    "print(s2[:-1])"
   ]
  },
  {
   "cell_type": "code",
   "execution_count": null,
   "id": "04d63f19",
   "metadata": {},
   "outputs": [],
   "source": []
  }
 ],
 "metadata": {
  "kernelspec": {
   "display_name": "Python 3 (ipykernel)",
   "language": "python",
   "name": "python3"
  },
  "language_info": {
   "codemirror_mode": {
    "name": "ipython",
    "version": 3
   },
   "file_extension": ".py",
   "mimetype": "text/x-python",
   "name": "python",
   "nbconvert_exporter": "python",
   "pygments_lexer": "ipython3",
   "version": "3.9.7"
  }
 },
 "nbformat": 4,
 "nbformat_minor": 5
}
