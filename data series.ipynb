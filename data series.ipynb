{
 "cells": [
  {
   "cell_type": "markdown",
   "id": "3b280141",
   "metadata": {},
   "source": [
    "#  Pandas Creating Data Series"
   ]
  },
  {
   "cell_type": "code",
   "execution_count": 6,
   "id": "bf1680f1",
   "metadata": {},
   "outputs": [
    {
     "data": {
      "text/plain": [
       "Series([], dtype: int8)"
      ]
     },
     "execution_count": 6,
     "metadata": {},
     "output_type": "execute_result"
    }
   ],
   "source": [
    "import pandas as pd\n",
    "import numpy as np\n",
    "s1=pd.Series(dtype=np.int8)\n",
    "s1"
   ]
  },
  {
   "cell_type": "markdown",
   "id": "44009b40",
   "metadata": {},
   "source": [
    "# Creating using List"
   ]
  },
  {
   "cell_type": "code",
   "execution_count": 15,
   "id": "979d41b5",
   "metadata": {},
   "outputs": [
    {
     "data": {
      "text/plain": [
       "a    45\n",
       "b    76\n",
       "c    89\n",
       "d    23\n",
       "e    56\n",
       "f    98\n",
       "dtype: int64"
      ]
     },
     "execution_count": 15,
     "metadata": {},
     "output_type": "execute_result"
    }
   ],
   "source": [
    "s2=pd.Series([45,76,89,23,56,98],  index=['a','b','c','d','e','f'])\n",
    "s2"
   ]
  },
  {
   "cell_type": "code",
   "execution_count": 16,
   "id": "baca1833",
   "metadata": {},
   "outputs": [
    {
     "data": {
      "text/plain": [
       "0     5\n",
       "1    10\n",
       "2    15\n",
       "3    20\n",
       "4    25\n",
       "5    30\n",
       "6    35\n",
       "7    40\n",
       "8    45\n",
       "9    50\n",
       "dtype: int64"
      ]
     },
     "execution_count": 16,
     "metadata": {},
     "output_type": "execute_result"
    }
   ],
   "source": [
    "list1=[]\n",
    "for i in range(5,51,5):\n",
    "    list1.append(i)\n",
    "\n",
    "s=pd.Series(list1)\n",
    "s"
   ]
  },
  {
   "cell_type": "markdown",
   "id": "5ae5a08c",
   "metadata": {},
   "source": [
    "# Creating using ndarry"
   ]
  },
  {
   "cell_type": "code",
   "execution_count": 18,
   "id": "45f8904f",
   "metadata": {},
   "outputs": [
    {
     "name": "stdout",
     "output_type": "stream",
     "text": [
      "[10. 20. 30. 40. 50.]\n"
     ]
    },
    {
     "data": {
      "text/plain": [
       "0    10.0\n",
       "1    20.0\n",
       "2    30.0\n",
       "3    40.0\n",
       "4    50.0\n",
       "dtype: float64"
      ]
     },
     "execution_count": 18,
     "metadata": {},
     "output_type": "execute_result"
    }
   ],
   "source": [
    "a=np.ndarray(shape=(5,))\n",
    "i=0\n",
    "for value in range(10,60,10):\n",
    "    a[i]=value\n",
    "    i=i+1\n",
    "print(a)\n",
    "s=pd.Series(a)\n",
    "s"
   ]
  },
  {
   "cell_type": "markdown",
   "id": "d7ffbae0",
   "metadata": {},
   "source": [
    "# Creating Series Using Dictionary"
   ]
  },
  {
   "cell_type": "code",
   "execution_count": 21,
   "id": "4f3a58e5",
   "metadata": {},
   "outputs": [
    {
     "data": {
      "text/plain": [
       "a    20\n",
       "b    30\n",
       "c    40\n",
       "d    50\n",
       "dtype: int64"
      ]
     },
     "execution_count": 21,
     "metadata": {},
     "output_type": "execute_result"
    }
   ],
   "source": [
    "dit={'a':20,'b':30,'c':40,'d':50}\n",
    "s=pd.Series(dit)\n",
    "s"
   ]
  },
  {
   "cell_type": "markdown",
   "id": "df14452f",
   "metadata": {},
   "source": [
    "# Creating Series using Scalar values\n",
    "If the series is created using scalar values we must define index. This index defines the length of series."
   ]
  },
  {
   "cell_type": "code",
   "execution_count": 24,
   "id": "62a5b85c",
   "metadata": {},
   "outputs": [
    {
     "data": {
      "text/plain": [
       "1    5\n",
       "2    5\n",
       "3    5\n",
       "4    5\n",
       "dtype: int64"
      ]
     },
     "execution_count": 24,
     "metadata": {},
     "output_type": "execute_result"
    }
   ],
   "source": [
    "s=pd.Series(5,index=[1,2,3,4])\n",
    "s"
   ]
  },
  {
   "cell_type": "code",
   "execution_count": null,
   "id": "3cf4ee97",
   "metadata": {},
   "outputs": [],
   "source": []
  }
 ],
 "metadata": {
  "kernelspec": {
   "display_name": "Python 3 (ipykernel)",
   "language": "python",
   "name": "python3"
  },
  "language_info": {
   "codemirror_mode": {
    "name": "ipython",
    "version": 3
   },
   "file_extension": ".py",
   "mimetype": "text/x-python",
   "name": "python",
   "nbconvert_exporter": "python",
   "pygments_lexer": "ipython3",
   "version": "3.9.7"
  }
 },
 "nbformat": 4,
 "nbformat_minor": 5
}
