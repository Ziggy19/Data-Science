{
 "cells": [
  {
   "cell_type": "markdown",
   "id": "1e5cd3cc",
   "metadata": {},
   "source": [
    "# ndarray.T\n",
    "T represents transposed array/matrix"
   ]
  },
  {
   "cell_type": "markdown",
   "id": "63e91bcc",
   "metadata": {},
   "source": [
    "This will return new matrix with changes.\n",
    "It is member/method of ndarray."
   ]
  },
  {
   "cell_type": "code",
   "execution_count": 8,
   "id": "9a23ea05",
   "metadata": {},
   "outputs": [
    {
     "name": "stdout",
     "output_type": "stream",
     "text": [
      "matrix 1\n",
      "\n",
      " [[1 2 9]\n",
      " [2 5 4]\n",
      " [0 1 5]] \n",
      "\n",
      "matrix2\n",
      "\n",
      " [[1 2 0]\n",
      " [2 5 1]\n",
      " [9 4 5]] \n",
      "\n"
     ]
    }
   ],
   "source": [
    "import numpy as np\n",
    "matrix1=np.array([[1,2,9],[2,5,4],[0,1,5]])\n",
    "matrix2=matrix1.T\n",
    "print(\"matrix 1\\n\\n\",matrix1,\"\\n\")\n",
    "print('matrix2\\n\\n',matrix2,\"\\n\")"
   ]
  },
  {
   "cell_type": "markdown",
   "id": "57ef3624",
   "metadata": {},
   "source": [
    "# numpy.swapaxes(array,axis1,axis2)\n",
    "This function is used to interchange axis of an array."
   ]
  },
  {
   "cell_type": "code",
   "execution_count": 12,
   "id": "cb6e901f",
   "metadata": {},
   "outputs": [
    {
     "name": "stdout",
     "output_type": "stream",
     "text": [
      "[[1 2 9]]\n"
     ]
    }
   ],
   "source": [
    "matrix1=np.array([[1,2,9]])\n",
    "print(matrix1)"
   ]
  },
  {
   "cell_type": "code",
   "execution_count": 14,
   "id": "7ad2fdcd",
   "metadata": {},
   "outputs": [
    {
     "data": {
      "text/plain": [
       "array([[1],\n",
       "       [2],\n",
       "       [9]])"
      ]
     },
     "execution_count": 14,
     "metadata": {},
     "output_type": "execute_result"
    }
   ],
   "source": [
    "a= np.swapaxes(matrix1,1,0)\n",
    "a"
   ]
  },
  {
   "cell_type": "markdown",
   "id": "aaec0ed3",
   "metadata": {},
   "source": [
    "# numpy.rollaxis()\n",
    "rollaxis function will roll the specified axis in backward direction until\n",
    "1. specified position.\n",
    "2. Syntax: numpy.rollaxis(a,axis,start=0)"
   ]
  },
  {
   "cell_type": "code",
   "execution_count": 16,
   "id": "19c08783",
   "metadata": {},
   "outputs": [
    {
     "data": {
      "text/plain": [
       "array([[1, 2, 9]])"
      ]
     },
     "execution_count": 16,
     "metadata": {},
     "output_type": "execute_result"
    }
   ],
   "source": [
    "np.rollaxis(matrix1,0,start=0)"
   ]
  },
  {
   "cell_type": "code",
   "execution_count": null,
   "id": "0d4109c0",
   "metadata": {},
   "outputs": [],
   "source": []
  }
 ],
 "metadata": {
  "kernelspec": {
   "display_name": "Python 3 (ipykernel)",
   "language": "python",
   "name": "python3"
  },
  "language_info": {
   "codemirror_mode": {
    "name": "ipython",
    "version": 3
   },
   "file_extension": ".py",
   "mimetype": "text/x-python",
   "name": "python",
   "nbconvert_exporter": "python",
   "pygments_lexer": "ipython3",
   "version": "3.9.7"
  }
 },
 "nbformat": 4,
 "nbformat_minor": 5
}
