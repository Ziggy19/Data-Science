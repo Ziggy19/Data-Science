{
 "cells": [
  {
   "cell_type": "markdown",
   "id": "4da02a06",
   "metadata": {},
   "source": [
    "# NumPy"
   ]
  },
  {
   "cell_type": "markdown",
   "id": "1e10f0e9",
   "metadata": {},
   "source": [
    "Numpy stands for Numerical Python\n",
    "Numpy is python library used for working with arrays (Vectors and\n",
    "Matrices).\n",
    "Numpy provide functions to work with linear algebra, fourier transform and\n",
    "matrices.\n",
    "Numpy is a python library is partially written in python and major part is\n",
    "wrriten in C language.\n",
    "Array is collection of similar type data or elements.\n"
   ]
  },
  {
   "cell_type": "markdown",
   "id": "82695cda",
   "metadata": {},
   "source": [
    "# Creating numpy array\n",
    "Numpy is used to create arrays. The array object in numpy is called\n",
    "ndarray (OR) ndarray is data type or class which represent array object.\n",
    "ndarray class is used to create array objects in python.\n",
    "Numpy provide various functions for creating array."
   ]
  },
  {
   "cell_type": "markdown",
   "id": "0f4d3bb3",
   "metadata": {},
   "source": [
    "### 1. array() : The function create ndarray object.\n",
    "dtype: dtype is attribute of array, which define data type, the default type of\n",
    "array is object."
   ]
  },
  {
   "cell_type": "markdown",
   "id": "98251777",
   "metadata": {},
   "source": [
    "# Numpy provide the following data types.\n",
    "1. Integer data types.\n",
    "a. Int8 - 1byte\n",
    "b. Int16 - 2bytes\n",
    "c. Int32 - 4bytes\n",
    "d. Int64 - 8bytes\n",
    "2. Float data types\n",
    "a. Float16- 2bytes\n",
    "b. Float32 - 4bytes\n",
    "c. Float64 - 8bytes\n",
    "3. Complex data types\n",
    "a. Complex64 - 8bytes\n",
    "b. Complex128 - 16bytes\n",
    "4. Unsigned int data type\n",
    "a. Uint8 - 1byte\n",
    "b. Uint16 - 2bytes\n",
    "c. Uint32 - 4bytes\n",
    "d. Uint64 - 8bytes\n",
    "This data types also represented using single characters.\n",
    "1. i-> integer\n",
    "2. f -> float\n",
    "3. u -> unsigned int\n",
    "4. s -> string"
   ]
  },
  {
   "cell_type": "markdown",
   "id": "24628fcf",
   "metadata": {},
   "source": [
    "# Syntax of array() function:\n",
    "    \n",
    "array(object,dtype,order,ndim)\n",
    "\n",
    "1. object: object is an iterable/sequence which is used to construct array.\n",
    "2. dtype: this indicates datatype of array\n",
    "3. order: order can be C (row-major), F(column-major)\n",
    "4. ndim: This specifies minimum number of dimensions of an output array."
   ]
  },
  {
   "cell_type": "markdown",
   "id": "9a63832d",
   "metadata": {},
   "source": [
    "# Creating Array\n"
   ]
  },
  {
   "cell_type": "code",
   "execution_count": 168,
   "id": "7253c45a",
   "metadata": {},
   "outputs": [
    {
     "name": "stdout",
     "output_type": "stream",
     "text": [
      "array is [10 20 30 40] \n",
      "\n",
      "array is\n",
      " [[10 20]\n",
      " [30 40]\n",
      " [50 60]\n",
      " [70 80]] \n",
      "\n"
     ]
    }
   ],
   "source": [
    "import numpy as np\n",
    "a=np.array([10,20,30,40])\n",
    "print('array is',a,'\\n')\n",
    "b=np.array([[10,20],[30,40],[50,60],[70,80]])\n",
    "print('array is\\n' ,b,'\\n')"
   ]
  },
  {
   "cell_type": "code",
   "execution_count": 170,
   "id": "2c2ffa43",
   "metadata": {},
   "outputs": [],
   "source": [
    "# Q. What is dimension?\n",
    "# ans. Dimension define depth of array or nested.\n",
    "# Q: What is shape of the array/\n",
    "# Shape define the number of rows and columns\n",
    "# Q: What is size?\n",
    "# The size will define total number elements exists within array\n",
    "# Q: What is dtype?\n",
    "# Type of elements hold by array"
   ]
  },
  {
   "cell_type": "code",
   "execution_count": 169,
   "id": "a21d974e",
   "metadata": {},
   "outputs": [
    {
     "name": "stdout",
     "output_type": "stream",
     "text": [
      "2\n"
     ]
    }
   ],
   "source": [
    "print(b.ndim)"
   ]
  },
  {
   "cell_type": "code",
   "execution_count": 171,
   "id": "cf01897d",
   "metadata": {},
   "outputs": [
    {
     "data": {
      "text/plain": [
       "(4, 2)"
      ]
     },
     "execution_count": 171,
     "metadata": {},
     "output_type": "execute_result"
    }
   ],
   "source": [
    "b.shape"
   ]
  },
  {
   "cell_type": "code",
   "execution_count": 172,
   "id": "cee8399b",
   "metadata": {},
   "outputs": [
    {
     "data": {
      "text/plain": [
       "8"
      ]
     },
     "execution_count": 172,
     "metadata": {},
     "output_type": "execute_result"
    }
   ],
   "source": [
    "b.size"
   ]
  },
  {
   "cell_type": "markdown",
   "id": "014b2ce4",
   "metadata": {},
   "source": [
    "# Other functions of creating numpy array"
   ]
  },
  {
   "cell_type": "markdown",
   "id": "4f42cdfd",
   "metadata": {},
   "source": [
    "# 1. empty()\n",
    "This function return empty array.\n",
    "2. Syntax:\n",
    "1. empty(shape,dtype=float)\n"
   ]
  },
  {
   "cell_type": "code",
   "execution_count": 175,
   "id": "8fb5eb1f",
   "metadata": {},
   "outputs": [
    {
     "data": {
      "text/plain": [
       "array([[0., 0., 0.],\n",
       "       [1., 1., 0.]])"
      ]
     },
     "execution_count": 175,
     "metadata": {},
     "output_type": "execute_result"
    }
   ],
   "source": [
    "a=np.empty(shape=(2,3))\n",
    "a"
   ]
  },
  {
   "cell_type": "markdown",
   "id": "db7e659a",
   "metadata": {},
   "source": [
    "# 2.zeros()\n",
    "This function return array with zero filled values.\n",
    "Syntax:\n",
    "\n",
    "    \n",
    "    zeros(shape,dtype=float)"
   ]
  },
  {
   "cell_type": "code",
   "execution_count": 177,
   "id": "1b6bceaf",
   "metadata": {},
   "outputs": [
    {
     "data": {
      "text/plain": [
       "array([[0., 0.],\n",
       "       [0., 0.]])"
      ]
     },
     "execution_count": 177,
     "metadata": {},
     "output_type": "execute_result"
    }
   ],
   "source": [
    "a=np.zeros(shape=(2,2))\n",
    "a"
   ]
  },
  {
   "cell_type": "markdown",
   "id": "cbc8fe49",
   "metadata": {},
   "source": [
    "# 3. ones()\n",
    "This function return array with ones filled values.\n",
    "1. Syntax:\n",
    "1. ones(shape,dtype=float)"
   ]
  },
  {
   "cell_type": "code",
   "execution_count": 180,
   "id": "75608dca",
   "metadata": {},
   "outputs": [
    {
     "data": {
      "text/plain": [
       "array([[1., 1.],\n",
       "       [1., 1.]])"
      ]
     },
     "execution_count": 180,
     "metadata": {},
     "output_type": "execute_result"
    }
   ],
   "source": [
    "a=np.ones(shape=(2,2))\n",
    "a"
   ]
  },
  {
   "cell_type": "markdown",
   "id": "23e48773",
   "metadata": {},
   "source": [
    "# 4. asarray()\n",
    "This function return array object (OR) this function is used to convert\n",
    "input object into array object.\n",
    "\n",
    "1.  Syntax:\n",
    "1.  asarray(object,dtype=None)\n",
    "\n",
    "1. If the data type is not defined, it takes the data types based input\n",
    "1. object elements types"
   ]
  },
  {
   "cell_type": "code",
   "execution_count": 182,
   "id": "7277d98d",
   "metadata": {},
   "outputs": [
    {
     "data": {
      "text/plain": [
       "array([[1., 1.],\n",
       "       [1., 1.]])"
      ]
     },
     "execution_count": 182,
     "metadata": {},
     "output_type": "execute_result"
    }
   ],
   "source": [
    "b=np.asarray(a)\n",
    "b"
   ]
  },
  {
   "cell_type": "markdown",
   "id": "8dd5e394",
   "metadata": {},
   "source": [
    "# 5. frombuffer()\n",
    "1. Buffer is temp storage memory area\n",
    "1. Buffers are used to increase efficiency in read and writing.\n",
    "1. frombuffer() function is used to construct array object using buffer.\n",
    "1.  Syntax:\n",
    "1.  frombuffer(buffer,dtype=float,count=-1,offset=0)"
   ]
  },
  {
   "cell_type": "code",
   "execution_count": 185,
   "id": "246f6716",
   "metadata": {},
   "outputs": [
    {
     "data": {
      "text/plain": [
       "array([1.08006273e+98])"
      ]
     },
     "execution_count": 185,
     "metadata": {},
     "output_type": "execute_result"
    }
   ],
   "source": [
    "buf=b'NARESHIT'\n",
    "a=np.frombuffer(buf)\n",
    "a"
   ]
  },
  {
   "cell_type": "markdown",
   "id": "66453ac4",
   "metadata": {},
   "source": [
    "# 6 fromiter()\n",
    "1. This function return numpy array object using iterator object.\n",
    "1. Syntax:\n",
    "1. fromiter(iterable,dtype,count=-1)\n",
    "1. iterable that will provide data for one dimension array object\n",
    "1. count represents the number of elements should read from iterable,\n",
    "1. the default is -1 which indicates all elements."
   ]
  },
  {
   "cell_type": "code",
   "execution_count": 191,
   "id": "1e503b5c",
   "metadata": {},
   "outputs": [
    {
     "data": {
      "text/plain": [
       "array([ 1,  2,  3,  4,  5,  6,  7,  8,  9, 10], dtype=int8)"
      ]
     },
     "execution_count": 191,
     "metadata": {},
     "output_type": "execute_result"
    }
   ],
   "source": [
    "lst=[n for n in range(1,11)]\n",
    "a= np.fromiter(lst,dtype=np.int8)\n",
    "a"
   ]
  },
  {
   "cell_type": "markdown",
   "id": "2bfcfae8",
   "metadata": {},
   "source": [
    "# 7. arange()\n",
    "1. The function return array object with numeric range of values.\n",
    "1. Syntax:\n",
    "1. arange(start,stop,step,dtype=None)\n",
    "1. start: start value of the array\n",
    "1. stop: end value of the array, which is not included\n",
    "1. step: difference between two values or increment or decrement value,\n",
    "1. the default value is 1"
   ]
  },
  {
   "cell_type": "code",
   "execution_count": 194,
   "id": "14e38b88",
   "metadata": {},
   "outputs": [
    {
     "data": {
      "text/plain": [
       "array([1, 3, 5, 7, 9])"
      ]
     },
     "execution_count": 194,
     "metadata": {},
     "output_type": "execute_result"
    }
   ],
   "source": [
    "a= np.arange(start=1,stop=11,step=2) \n",
    "a"
   ]
  },
  {
   "cell_type": "markdown",
   "id": "fda5a5e1",
   "metadata": {},
   "source": [
    "# 8. linspace()\n",
    "1. this function works like arange function.\n",
    "1. This function takes size of array. It constructs the array based on\n",
    "1. number of elements. The difference between each element (step) it\n",
    "1. taken based on number of elements."
   ]
  },
  {
   "cell_type": "code",
   "execution_count": 199,
   "id": "75d842c2",
   "metadata": {},
   "outputs": [
    {
     "data": {
      "text/plain": [
       "array([1., 2., 3., 4., 5.])"
      ]
     },
     "execution_count": 199,
     "metadata": {},
     "output_type": "execute_result"
    }
   ],
   "source": [
    "a= np.linspace(1,5,5)\n",
    "a"
   ]
  },
  {
   "cell_type": "markdown",
   "id": "221ccfa5",
   "metadata": {},
   "source": [
    "# 9. logspace()\n",
    "1. The logspace function create numpy array object evenly separated\n",
    "1. values using log scale.\n",
    "1. Syntax:\n",
    "1. logspace(start,stop,num,endpoint,base,dtype)\n",
    "1. start: start specifies the start value of the interval\n",
    "1. stop: specifies the stop value of/end value of the interval\n",
    "1. num: The number of values to be generated within range\n",
    "1. endpoint: The value of endpoint can be True or False, if endpoint is\n",
    "1. True, which tells logspace include stop value, if false exclude stop\n",
    "1. value.\n",
    "1. base: represent base of the log space\n",
    "1. dtype: the type of data hold by numpy"
   ]
  },
  {
   "cell_type": "code",
   "execution_count": 202,
   "id": "1f97f28b",
   "metadata": {},
   "outputs": [
    {
     "data": {
      "text/plain": [
       "array([1.00000000e+01, 1.52641797e+01, 2.32995181e+01, 3.55648031e+01,\n",
       "       5.42867544e+01, 8.28642773e+01, 1.26485522e+02, 1.93069773e+02,\n",
       "       2.94705170e+02, 4.49843267e+02, 6.86648845e+02, 1.04811313e+03,\n",
       "       1.59985872e+03, 2.44205309e+03, 3.72759372e+03, 5.68986603e+03,\n",
       "       8.68511374e+03, 1.32571137e+04, 2.02358965e+04, 3.08884360e+04,\n",
       "       4.71486636e+04, 7.19685673e+04, 1.09854114e+05, 1.67683294e+05,\n",
       "       2.55954792e+05, 3.90693994e+05, 5.96362332e+05, 9.10298178e+05,\n",
       "       1.38949549e+06, 2.12095089e+06, 3.23745754e+06, 4.94171336e+06,\n",
       "       7.54312006e+06, 1.15139540e+07, 1.75751062e+07, 2.68269580e+07,\n",
       "       4.09491506e+07, 6.25055193e+07, 9.54095476e+07, 1.45634848e+08,\n",
       "       2.22299648e+08, 3.39322177e+08, 5.17947468e+08, 7.90604321e+08,\n",
       "       1.20679264e+09, 1.84206997e+09, 2.81176870e+09, 4.29193426e+09,\n",
       "       6.55128557e+09, 1.00000000e+10])"
      ]
     },
     "execution_count": 202,
     "metadata": {},
     "output_type": "execute_result"
    }
   ],
   "source": [
    "a=np.logspace(1,10)\n",
    "a"
   ]
  },
  {
   "cell_type": "markdown",
   "id": "a50115d6",
   "metadata": {},
   "source": [
    "# How to read elements from Array using indexing and slicing\n",
    "1. Using index we can read only one element\n",
    "1. Slicing uses multiple indexes to read more than one value\n",
    "1. Using this approach we can read elements of any dimension"
   ]
  },
  {
   "cell_type": "code",
   "execution_count": 203,
   "id": "a0845008",
   "metadata": {},
   "outputs": [
    {
     "data": {
      "text/plain": [
       "10.0"
      ]
     },
     "execution_count": 203,
     "metadata": {},
     "output_type": "execute_result"
    }
   ],
   "source": [
    "b=a[0]\n",
    "b"
   ]
  },
  {
   "cell_type": "code",
   "execution_count": 205,
   "id": "3573671c",
   "metadata": {},
   "outputs": [
    {
     "data": {
      "text/plain": [
       "array([10.        , 15.26417967])"
      ]
     },
     "execution_count": 205,
     "metadata": {},
     "output_type": "execute_result"
    }
   ],
   "source": [
    "b=a[0:2]\n",
    "b"
   ]
  },
  {
   "cell_type": "markdown",
   "id": "147b5a50",
   "metadata": {},
   "source": [
    "# Advanced Indexing\n",
    "Using numpy advanced indexing we can read selected values from matrix\n",
    "    using collection of tuples which represent row and col index. It allows to\n",
    "1. read even using condition.\n",
    "1. Advanced indexing is classified into two categories.\n",
    "1. Integer based index\n",
    "2. Boolean based index\n",
    "Integer based index"
   ]
  },
  {
   "cell_type": "markdown",
   "id": "6124d754",
   "metadata": {},
   "source": [
    "# Integer based index\n",
    "In integer based we try to create a collection which consist of tuples, where\n",
    "each tuple represent rowindex and colindex.\n",
    "Boolean"
   ]
  },
  {
   "cell_type": "code",
   "execution_count": null,
   "id": "c6f7caa6",
   "metadata": {},
   "outputs": [],
   "source": []
  }
 ],
 "metadata": {
  "kernelspec": {
   "display_name": "Python 3 (ipykernel)",
   "language": "python",
   "name": "python3"
  },
  "language_info": {
   "codemirror_mode": {
    "name": "ipython",
    "version": 3
   },
   "file_extension": ".py",
   "mimetype": "text/x-python",
   "name": "python",
   "nbconvert_exporter": "python",
   "pygments_lexer": "ipython3",
   "version": "3.9.7"
  }
 },
 "nbformat": 4,
 "nbformat_minor": 5
}
