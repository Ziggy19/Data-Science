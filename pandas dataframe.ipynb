{
 "cells": [
  {
   "cell_type": "markdown",
   "id": "cf601175",
   "metadata": {},
   "source": [
    "# Dataframe"
   ]
  },
  {
   "cell_type": "code",
   "execution_count": 12,
   "id": "fe02bc45",
   "metadata": {},
   "outputs": [],
   "source": [
    "# DataFrame\n",
    "# DataFrame is two dimensional array object with heterogeneous data. In DataFrame data is stored in the form of \n",
    "#rows and columns.\n",
    "# How to create DataFrame?\n",
    "# DataFrame can be created in different ways.\n",
    "# 1. Series\n",
    "# 2. Lists\n",
    "# 3. Dictionary\n",
    "# 4. Numpy array\n",
    "# 5. From another dataframe\n",
    "# 6. Data can read from files or database\n",
    "# Syntax:\n",
    "# DataFrame(data,index,columns,dtype)\n",
    "# data : data is taken from various sources\n",
    "# Index : row labels\n",
    "# columns : columns labels\n",
    "# dtype: data type of each column\n",
    "\n"
   ]
  },
  {
   "cell_type": "code",
   "execution_count": 16,
   "id": "ab295dd9",
   "metadata": {},
   "outputs": [
    {
     "name": "stdout",
     "output_type": "stream",
     "text": [
      "Empty DataFrame\n",
      "Columns: []\n",
      "Index: []\n"
     ]
    }
   ],
   "source": [
    "import pandas as pd\n",
    "import numpy as np\n",
    "df=pd.DataFrame()\n",
    "print(df)"
   ]
  },
  {
   "cell_type": "markdown",
   "id": "8b2ff83d",
   "metadata": {},
   "source": [
    "# Creating DataFrame using dictionary"
   ]
  },
  {
   "cell_type": "code",
   "execution_count": 27,
   "id": "a5e5f468",
   "metadata": {},
   "outputs": [
    {
     "data": {
      "text/html": [
       "<div>\n",
       "<style scoped>\n",
       "    .dataframe tbody tr th:only-of-type {\n",
       "        vertical-align: middle;\n",
       "    }\n",
       "\n",
       "    .dataframe tbody tr th {\n",
       "        vertical-align: top;\n",
       "    }\n",
       "\n",
       "    .dataframe thead th {\n",
       "        text-align: right;\n",
       "    }\n",
       "</style>\n",
       "<table border=\"1\" class=\"dataframe\">\n",
       "  <thead>\n",
       "    <tr style=\"text-align: right;\">\n",
       "      <th></th>\n",
       "      <th>Roll no</th>\n",
       "      <th>name</th>\n",
       "      <th>class</th>\n",
       "      <th>Result</th>\n",
       "    </tr>\n",
       "  </thead>\n",
       "  <tbody>\n",
       "    <tr>\n",
       "      <th>0</th>\n",
       "      <td>1</td>\n",
       "      <td>ziggy</td>\n",
       "      <td>3</td>\n",
       "      <td>pass</td>\n",
       "    </tr>\n",
       "    <tr>\n",
       "      <th>1</th>\n",
       "      <td>2</td>\n",
       "      <td>monu</td>\n",
       "      <td>3</td>\n",
       "      <td>pass</td>\n",
       "    </tr>\n",
       "    <tr>\n",
       "      <th>2</th>\n",
       "      <td>3</td>\n",
       "      <td>mizi</td>\n",
       "      <td>3</td>\n",
       "      <td>pass</td>\n",
       "    </tr>\n",
       "    <tr>\n",
       "      <th>3</th>\n",
       "      <td>4</td>\n",
       "      <td>lado</td>\n",
       "      <td>3</td>\n",
       "      <td>fail</td>\n",
       "    </tr>\n",
       "    <tr>\n",
       "      <th>4</th>\n",
       "      <td>5</td>\n",
       "      <td>muma</td>\n",
       "      <td>3</td>\n",
       "      <td>fail</td>\n",
       "    </tr>\n",
       "  </tbody>\n",
       "</table>\n",
       "</div>"
      ],
      "text/plain": [
       "   Roll no   name  class Result\n",
       "0        1  ziggy      3   pass\n",
       "1        2   monu      3   pass\n",
       "2        3   mizi      3   pass\n",
       "3        4   lado      3   fail\n",
       "4        5   muma      3   fail"
      ]
     },
     "execution_count": 27,
     "metadata": {},
     "output_type": "execute_result"
    }
   ],
   "source": [
    "# d={'Roll no':[1,2,3,4,5],'name':['ziggy','monu','mizi','lado','muma'],'class':[3,3,3,3,3],'Result':['pass','pass','pass','fail','fail']}\n",
    "df=pd.DataFrame({'Roll no':[1,2,3,4,5],'name':['ziggy','monu','mizi','lado','muma'],\n",
    "                 'class':[3,3,3,3,3],'Result':['pass','pass','pass','fail','fail']})\n",
    "df"
   ]
  },
  {
   "cell_type": "markdown",
   "id": "069aa1d2",
   "metadata": {},
   "source": [
    "# Create DataFrame using List"
   ]
  },
  {
   "cell_type": "code",
   "execution_count": 41,
   "id": "6ffcb1ab",
   "metadata": {},
   "outputs": [
    {
     "data": {
      "text/html": [
       "<div>\n",
       "<style scoped>\n",
       "    .dataframe tbody tr th:only-of-type {\n",
       "        vertical-align: middle;\n",
       "    }\n",
       "\n",
       "    .dataframe tbody tr th {\n",
       "        vertical-align: top;\n",
       "    }\n",
       "\n",
       "    .dataframe thead th {\n",
       "        text-align: right;\n",
       "    }\n",
       "</style>\n",
       "<table border=\"1\" class=\"dataframe\">\n",
       "  <thead>\n",
       "    <tr style=\"text-align: right;\">\n",
       "      <th></th>\n",
       "      <th>name</th>\n",
       "      <th>age</th>\n",
       "    </tr>\n",
       "  </thead>\n",
       "  <tbody>\n",
       "    <tr>\n",
       "      <th>0</th>\n",
       "      <td>ziggy</td>\n",
       "      <td>50</td>\n",
       "    </tr>\n",
       "    <tr>\n",
       "      <th>1</th>\n",
       "      <td>monu</td>\n",
       "      <td>60</td>\n",
       "    </tr>\n",
       "    <tr>\n",
       "      <th>2</th>\n",
       "      <td>mizi</td>\n",
       "      <td>40</td>\n",
       "    </tr>\n",
       "  </tbody>\n",
       "</table>\n",
       "</div>"
      ],
      "text/plain": [
       "    name  age\n",
       "0  ziggy   50\n",
       "1   monu   60\n",
       "2   mizi   40"
      ]
     },
     "execution_count": 41,
     "metadata": {},
     "output_type": "execute_result"
    }
   ],
   "source": [
    "list1=[['ziggy',50],['monu',60],['mizi',40]]\n",
    "df=pd.DataFrame(list1,columns=['name','age'])\n",
    "df"
   ]
  },
  {
   "cell_type": "markdown",
   "id": "ebe88638",
   "metadata": {},
   "source": [
    "# Creating using Missing DAta"
   ]
  },
  {
   "cell_type": "code",
   "execution_count": 43,
   "id": "58691b77",
   "metadata": {},
   "outputs": [
    {
     "data": {
      "text/html": [
       "<div>\n",
       "<style scoped>\n",
       "    .dataframe tbody tr th:only-of-type {\n",
       "        vertical-align: middle;\n",
       "    }\n",
       "\n",
       "    .dataframe tbody tr th {\n",
       "        vertical-align: top;\n",
       "    }\n",
       "\n",
       "    .dataframe thead th {\n",
       "        text-align: right;\n",
       "    }\n",
       "</style>\n",
       "<table border=\"1\" class=\"dataframe\">\n",
       "  <thead>\n",
       "    <tr style=\"text-align: right;\">\n",
       "      <th></th>\n",
       "      <th>name</th>\n",
       "      <th>age</th>\n",
       "    </tr>\n",
       "  </thead>\n",
       "  <tbody>\n",
       "    <tr>\n",
       "      <th>0</th>\n",
       "      <td>ziggy</td>\n",
       "      <td>50.0</td>\n",
       "    </tr>\n",
       "    <tr>\n",
       "      <th>1</th>\n",
       "      <td>monu</td>\n",
       "      <td>60.0</td>\n",
       "    </tr>\n",
       "    <tr>\n",
       "      <th>2</th>\n",
       "      <td>mizi</td>\n",
       "      <td>NaN</td>\n",
       "    </tr>\n",
       "  </tbody>\n",
       "</table>\n",
       "</div>"
      ],
      "text/plain": [
       "    name   age\n",
       "0  ziggy  50.0\n",
       "1   monu  60.0\n",
       "2   mizi   NaN"
      ]
     },
     "execution_count": 43,
     "metadata": {},
     "output_type": "execute_result"
    }
   ],
   "source": [
    "list1=[['ziggy',50],['monu',60],['mizi']]\n",
    "df=pd.DataFrame(list1,columns=['name','age'])\n",
    "df"
   ]
  },
  {
   "cell_type": "markdown",
   "id": "4a686ae6",
   "metadata": {},
   "source": [
    "# Selecting Data"
   ]
  },
  {
   "cell_type": "code",
   "execution_count": 44,
   "id": "ab45c2a9",
   "metadata": {},
   "outputs": [],
   "source": [
    "# 1. Row Selection\n",
    "# 2. Column Selection\n",
    "# Column Selection\n",
    "# Selecting columns from DataFrame can be done using column header."
   ]
  },
  {
   "cell_type": "code",
   "execution_count": 46,
   "id": "9ff9c669",
   "metadata": {},
   "outputs": [
    {
     "name": "stdout",
     "output_type": "stream",
     "text": [
      "0    ziggy\n",
      "1     monu\n",
      "2     mizi\n",
      "Name: name, dtype: object 0    50.0\n",
      "1    60.0\n",
      "2     NaN\n",
      "Name: age, dtype: float64\n"
     ]
    }
   ],
   "source": [
    "c=df['name']\n",
    "d=df['age']\n",
    "print(c,d)"
   ]
  },
  {
   "cell_type": "code",
   "execution_count": 47,
   "id": "bbe5272b",
   "metadata": {},
   "outputs": [
    {
     "data": {
      "text/html": [
       "<div>\n",
       "<style scoped>\n",
       "    .dataframe tbody tr th:only-of-type {\n",
       "        vertical-align: middle;\n",
       "    }\n",
       "\n",
       "    .dataframe tbody tr th {\n",
       "        vertical-align: top;\n",
       "    }\n",
       "\n",
       "    .dataframe thead th {\n",
       "        text-align: right;\n",
       "    }\n",
       "</style>\n",
       "<table border=\"1\" class=\"dataframe\">\n",
       "  <thead>\n",
       "    <tr style=\"text-align: right;\">\n",
       "      <th></th>\n",
       "      <th>Roll no</th>\n",
       "      <th>name</th>\n",
       "      <th>class</th>\n",
       "      <th>Result</th>\n",
       "    </tr>\n",
       "  </thead>\n",
       "  <tbody>\n",
       "    <tr>\n",
       "      <th>0</th>\n",
       "      <td>1</td>\n",
       "      <td>ziggy</td>\n",
       "      <td>3</td>\n",
       "      <td>pass</td>\n",
       "    </tr>\n",
       "    <tr>\n",
       "      <th>1</th>\n",
       "      <td>2</td>\n",
       "      <td>monu</td>\n",
       "      <td>3</td>\n",
       "      <td>pass</td>\n",
       "    </tr>\n",
       "    <tr>\n",
       "      <th>2</th>\n",
       "      <td>3</td>\n",
       "      <td>mizi</td>\n",
       "      <td>3</td>\n",
       "      <td>pass</td>\n",
       "    </tr>\n",
       "    <tr>\n",
       "      <th>3</th>\n",
       "      <td>4</td>\n",
       "      <td>lado</td>\n",
       "      <td>3</td>\n",
       "      <td>fail</td>\n",
       "    </tr>\n",
       "    <tr>\n",
       "      <th>4</th>\n",
       "      <td>5</td>\n",
       "      <td>muma</td>\n",
       "      <td>3</td>\n",
       "      <td>fail</td>\n",
       "    </tr>\n",
       "  </tbody>\n",
       "</table>\n",
       "</div>"
      ],
      "text/plain": [
       "   Roll no   name  class Result\n",
       "0        1  ziggy      3   pass\n",
       "1        2   monu      3   pass\n",
       "2        3   mizi      3   pass\n",
       "3        4   lado      3   fail\n",
       "4        5   muma      3   fail"
      ]
     },
     "execution_count": 47,
     "metadata": {},
     "output_type": "execute_result"
    }
   ],
   "source": [
    "df=pd.DataFrame({'Roll no':[1,2,3,4,5],'name':['ziggy','monu','mizi','lado','muma'],\n",
    "                 'class':[3,3,3,3,3],'Result':['pass','pass','pass','fail','fail']})\n",
    "df"
   ]
  },
  {
   "cell_type": "markdown",
   "id": "d98db149",
   "metadata": {},
   "source": [
    "# select Multiple columns"
   ]
  },
  {
   "cell_type": "code",
   "execution_count": 49,
   "id": "021c2f4e",
   "metadata": {},
   "outputs": [
    {
     "name": "stdout",
     "output_type": "stream",
     "text": [
      "   Roll no Result\n",
      "0        1   pass\n",
      "1        2   pass\n",
      "2        3   pass\n",
      "3        4   fail\n",
      "4        5   fail\n"
     ]
    }
   ],
   "source": [
    "print(df[['Roll no','Result']])"
   ]
  },
  {
   "cell_type": "markdown",
   "id": "5c3364a8",
   "metadata": {},
   "source": [
    "# Column Addition"
   ]
  },
  {
   "cell_type": "code",
   "execution_count": 56,
   "id": "866b9e36",
   "metadata": {},
   "outputs": [
    {
     "data": {
      "text/html": [
       "<div>\n",
       "<style scoped>\n",
       "    .dataframe tbody tr th:only-of-type {\n",
       "        vertical-align: middle;\n",
       "    }\n",
       "\n",
       "    .dataframe tbody tr th {\n",
       "        vertical-align: top;\n",
       "    }\n",
       "\n",
       "    .dataframe thead th {\n",
       "        text-align: right;\n",
       "    }\n",
       "</style>\n",
       "<table border=\"1\" class=\"dataframe\">\n",
       "  <thead>\n",
       "    <tr style=\"text-align: right;\">\n",
       "      <th></th>\n",
       "      <th>Roll no</th>\n",
       "      <th>name</th>\n",
       "      <th>class</th>\n",
       "      <th>Result</th>\n",
       "      <th>combine</th>\n",
       "      <th>combine1</th>\n",
       "      <th>combine2</th>\n",
       "    </tr>\n",
       "  </thead>\n",
       "  <tbody>\n",
       "    <tr>\n",
       "      <th>0</th>\n",
       "      <td>1</td>\n",
       "      <td>ziggy</td>\n",
       "      <td>3</td>\n",
       "      <td>pass</td>\n",
       "      <td>ziggypass</td>\n",
       "      <td>4</td>\n",
       "      <td>ziggypass</td>\n",
       "    </tr>\n",
       "    <tr>\n",
       "      <th>1</th>\n",
       "      <td>2</td>\n",
       "      <td>monu</td>\n",
       "      <td>3</td>\n",
       "      <td>pass</td>\n",
       "      <td>monupass</td>\n",
       "      <td>5</td>\n",
       "      <td>monupass</td>\n",
       "    </tr>\n",
       "    <tr>\n",
       "      <th>2</th>\n",
       "      <td>3</td>\n",
       "      <td>mizi</td>\n",
       "      <td>3</td>\n",
       "      <td>pass</td>\n",
       "      <td>mizipass</td>\n",
       "      <td>6</td>\n",
       "      <td>mizipass</td>\n",
       "    </tr>\n",
       "    <tr>\n",
       "      <th>3</th>\n",
       "      <td>4</td>\n",
       "      <td>lado</td>\n",
       "      <td>3</td>\n",
       "      <td>fail</td>\n",
       "      <td>ladofail</td>\n",
       "      <td>7</td>\n",
       "      <td>ladofail</td>\n",
       "    </tr>\n",
       "    <tr>\n",
       "      <th>4</th>\n",
       "      <td>5</td>\n",
       "      <td>muma</td>\n",
       "      <td>3</td>\n",
       "      <td>fail</td>\n",
       "      <td>mumafail</td>\n",
       "      <td>8</td>\n",
       "      <td>mumafail</td>\n",
       "    </tr>\n",
       "  </tbody>\n",
       "</table>\n",
       "</div>"
      ],
      "text/plain": [
       "   Roll no   name  class Result    combine  combine1   combine2\n",
       "0        1  ziggy      3   pass  ziggypass         4  ziggypass\n",
       "1        2   monu      3   pass   monupass         5   monupass\n",
       "2        3   mizi      3   pass   mizipass         6   mizipass\n",
       "3        4   lado      3   fail   ladofail         7   ladofail\n",
       "4        5   muma      3   fail   mumafail         8   mumafail"
      ]
     },
     "execution_count": 56,
     "metadata": {},
     "output_type": "execute_result"
    }
   ],
   "source": [
    "df['combine1']=df['Roll no']+df['class']\n",
    "df['combine2']=df['name']+df['Result']\n",
    "\n",
    "df"
   ]
  },
  {
   "cell_type": "code",
   "execution_count": 57,
   "id": "acd13d2f",
   "metadata": {},
   "outputs": [],
   "source": [
    "# Column Deletion\n",
    "# The column deletion is done using del keyword.\n",
    "# It allows deleting one or more than one columns.\n",
    "# The column is deleted with column name or column labels."
   ]
  },
  {
   "cell_type": "code",
   "execution_count": 64,
   "id": "51d9b8e7",
   "metadata": {},
   "outputs": [
    {
     "data": {
      "text/html": [
       "<div>\n",
       "<style scoped>\n",
       "    .dataframe tbody tr th:only-of-type {\n",
       "        vertical-align: middle;\n",
       "    }\n",
       "\n",
       "    .dataframe tbody tr th {\n",
       "        vertical-align: top;\n",
       "    }\n",
       "\n",
       "    .dataframe thead th {\n",
       "        text-align: right;\n",
       "    }\n",
       "</style>\n",
       "<table border=\"1\" class=\"dataframe\">\n",
       "  <thead>\n",
       "    <tr style=\"text-align: right;\">\n",
       "      <th></th>\n",
       "      <th>Roll no</th>\n",
       "      <th>name</th>\n",
       "      <th>class</th>\n",
       "      <th>Result</th>\n",
       "      <th>combine2</th>\n",
       "    </tr>\n",
       "  </thead>\n",
       "  <tbody>\n",
       "    <tr>\n",
       "      <th>0</th>\n",
       "      <td>1</td>\n",
       "      <td>ziggy</td>\n",
       "      <td>3</td>\n",
       "      <td>pass</td>\n",
       "      <td>ziggypass</td>\n",
       "    </tr>\n",
       "    <tr>\n",
       "      <th>1</th>\n",
       "      <td>2</td>\n",
       "      <td>monu</td>\n",
       "      <td>3</td>\n",
       "      <td>pass</td>\n",
       "      <td>monupass</td>\n",
       "    </tr>\n",
       "    <tr>\n",
       "      <th>2</th>\n",
       "      <td>3</td>\n",
       "      <td>mizi</td>\n",
       "      <td>3</td>\n",
       "      <td>pass</td>\n",
       "      <td>mizipass</td>\n",
       "    </tr>\n",
       "    <tr>\n",
       "      <th>3</th>\n",
       "      <td>4</td>\n",
       "      <td>lado</td>\n",
       "      <td>3</td>\n",
       "      <td>fail</td>\n",
       "      <td>ladofail</td>\n",
       "    </tr>\n",
       "    <tr>\n",
       "      <th>4</th>\n",
       "      <td>5</td>\n",
       "      <td>muma</td>\n",
       "      <td>3</td>\n",
       "      <td>fail</td>\n",
       "      <td>mumafail</td>\n",
       "    </tr>\n",
       "  </tbody>\n",
       "</table>\n",
       "</div>"
      ],
      "text/plain": [
       "   Roll no   name  class Result   combine2\n",
       "0        1  ziggy      3   pass  ziggypass\n",
       "1        2   monu      3   pass   monupass\n",
       "2        3   mizi      3   pass   mizipass\n",
       "3        4   lado      3   fail   ladofail\n",
       "4        5   muma      3   fail   mumafail"
      ]
     },
     "execution_count": 64,
     "metadata": {},
     "output_type": "execute_result"
    }
   ],
   "source": [
    "del df['combine']\n",
    "df"
   ]
  },
  {
   "cell_type": "markdown",
   "id": "a7b8ff2f",
   "metadata": {},
   "source": [
    "# Row Selection, Addition and Deletion"
   ]
  },
  {
   "cell_type": "code",
   "execution_count": 65,
   "id": "8bd9f2cc",
   "metadata": {},
   "outputs": [],
   "source": [
    "# Each row is identified with index or label. We can read rows from dataframe using index or label.\n",
    "# DataFrame provide two methods to perform this operation.\n",
    "# 1. loc\n",
    "# 2. iloc\n",
    "# loc() is used to read the rows using label\n",
    "# iloc() is used to read the rows using index"
   ]
  },
  {
   "cell_type": "code",
   "execution_count": 83,
   "id": "e6c31cb0",
   "metadata": {},
   "outputs": [
    {
     "data": {
      "text/html": [
       "<div>\n",
       "<style scoped>\n",
       "    .dataframe tbody tr th:only-of-type {\n",
       "        vertical-align: middle;\n",
       "    }\n",
       "\n",
       "    .dataframe tbody tr th {\n",
       "        vertical-align: top;\n",
       "    }\n",
       "\n",
       "    .dataframe thead th {\n",
       "        text-align: right;\n",
       "    }\n",
       "</style>\n",
       "<table border=\"1\" class=\"dataframe\">\n",
       "  <thead>\n",
       "    <tr style=\"text-align: right;\">\n",
       "      <th></th>\n",
       "      <th>Roll no</th>\n",
       "      <th>name</th>\n",
       "      <th>class</th>\n",
       "      <th>Result</th>\n",
       "    </tr>\n",
       "  </thead>\n",
       "  <tbody>\n",
       "    <tr>\n",
       "      <th>1</th>\n",
       "      <td>11</td>\n",
       "      <td>ziggy</td>\n",
       "      <td>3</td>\n",
       "      <td>pass</td>\n",
       "    </tr>\n",
       "    <tr>\n",
       "      <th>2</th>\n",
       "      <td>21</td>\n",
       "      <td>monu</td>\n",
       "      <td>3</td>\n",
       "      <td>pass</td>\n",
       "    </tr>\n",
       "    <tr>\n",
       "      <th>3</th>\n",
       "      <td>31</td>\n",
       "      <td>mizi</td>\n",
       "      <td>3</td>\n",
       "      <td>pass</td>\n",
       "    </tr>\n",
       "    <tr>\n",
       "      <th>4</th>\n",
       "      <td>41</td>\n",
       "      <td>lado</td>\n",
       "      <td>3</td>\n",
       "      <td>fail</td>\n",
       "    </tr>\n",
       "    <tr>\n",
       "      <th>5</th>\n",
       "      <td>51</td>\n",
       "      <td>muma</td>\n",
       "      <td>3</td>\n",
       "      <td>fail</td>\n",
       "    </tr>\n",
       "  </tbody>\n",
       "</table>\n",
       "</div>"
      ],
      "text/plain": [
       "   Roll no   name  class Result\n",
       "1       11  ziggy      3   pass\n",
       "2       21   monu      3   pass\n",
       "3       31   mizi      3   pass\n",
       "4       41   lado      3   fail\n",
       "5       51   muma      3   fail"
      ]
     },
     "execution_count": 83,
     "metadata": {},
     "output_type": "execute_result"
    }
   ],
   "source": [
    "df=pd.DataFrame({'Roll no':[11,21,31,41,51],'name':['ziggy','monu','mizi','lado','muma'],\n",
    "                 'class':[3,3,3,3,3],'Result':['pass','pass','pass','fail','fail']},index=[1,2,3,4,5])\n",
    "df"
   ]
  },
  {
   "cell_type": "code",
   "execution_count": 84,
   "id": "a5decaf0",
   "metadata": {},
   "outputs": [
    {
     "data": {
      "text/plain": [
       "Roll no      21\n",
       "name       monu\n",
       "class         3\n",
       "Result     pass\n",
       "Name: 2, dtype: object"
      ]
     },
     "execution_count": 84,
     "metadata": {},
     "output_type": "execute_result"
    }
   ],
   "source": [
    "row=df.loc[2]\n",
    "row"
   ]
  },
  {
   "cell_type": "code",
   "execution_count": 97,
   "id": "b8913e88",
   "metadata": {},
   "outputs": [
    {
     "data": {
      "text/plain": [
       "Roll no      31\n",
       "name       mizi\n",
       "class         3\n",
       "Result     pass\n",
       "Name: 3, dtype: object"
      ]
     },
     "execution_count": 97,
     "metadata": {},
     "output_type": "execute_result"
    }
   ],
   "source": [
    "row=df.iloc[2]\n",
    "row"
   ]
  },
  {
   "cell_type": "code",
   "execution_count": 98,
   "id": "146b30d5",
   "metadata": {},
   "outputs": [],
   "source": [
    "# Deletion of rows\n",
    "# Deletion of rows are done using a method drop().\n",
    "# It delete only one row.\n",
    "# Deleting is done using row labels/index.\n",
    "# It row labels are duplicated it remove multiple rows.\n",
    "# head and"
   ]
  },
  {
   "cell_type": "code",
   "execution_count": 99,
   "id": "4251092f",
   "metadata": {},
   "outputs": [
    {
     "data": {
      "text/html": [
       "<div>\n",
       "<style scoped>\n",
       "    .dataframe tbody tr th:only-of-type {\n",
       "        vertical-align: middle;\n",
       "    }\n",
       "\n",
       "    .dataframe tbody tr th {\n",
       "        vertical-align: top;\n",
       "    }\n",
       "\n",
       "    .dataframe thead th {\n",
       "        text-align: right;\n",
       "    }\n",
       "</style>\n",
       "<table border=\"1\" class=\"dataframe\">\n",
       "  <thead>\n",
       "    <tr style=\"text-align: right;\">\n",
       "      <th></th>\n",
       "      <th>Roll no</th>\n",
       "      <th>name</th>\n",
       "      <th>class</th>\n",
       "      <th>Result</th>\n",
       "    </tr>\n",
       "  </thead>\n",
       "  <tbody>\n",
       "    <tr>\n",
       "      <th>1</th>\n",
       "      <td>11</td>\n",
       "      <td>ziggy</td>\n",
       "      <td>3</td>\n",
       "      <td>pass</td>\n",
       "    </tr>\n",
       "    <tr>\n",
       "      <th>2</th>\n",
       "      <td>21</td>\n",
       "      <td>monu</td>\n",
       "      <td>3</td>\n",
       "      <td>pass</td>\n",
       "    </tr>\n",
       "  </tbody>\n",
       "</table>\n",
       "</div>"
      ],
      "text/plain": [
       "   Roll no   name  class Result\n",
       "1       11  ziggy      3   pass\n",
       "2       21   monu      3   pass"
      ]
     },
     "execution_count": 99,
     "metadata": {},
     "output_type": "execute_result"
    }
   ],
   "source": [
    "df.head(2)"
   ]
  },
  {
   "cell_type": "code",
   "execution_count": null,
   "id": "31267d99",
   "metadata": {},
   "outputs": [],
   "source": []
  }
 ],
 "metadata": {
  "kernelspec": {
   "display_name": "Python 3 (ipykernel)",
   "language": "python",
   "name": "python3"
  },
  "language_info": {
   "codemirror_mode": {
    "name": "ipython",
    "version": 3
   },
   "file_extension": ".py",
   "mimetype": "text/x-python",
   "name": "python",
   "nbconvert_exporter": "python",
   "pygments_lexer": "ipython3",
   "version": "3.9.7"
  }
 },
 "nbformat": 4,
 "nbformat_minor": 5
}
